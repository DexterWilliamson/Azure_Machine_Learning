{
 "cells": [
  {
   "cell_type": "code",
   "execution_count": 1,
   "metadata": {},
   "outputs": [
    {
     "name": "stdout",
     "output_type": "stream",
     "text": [
      "Requirement already satisfied: statsmodels in /home/ericxyuki/.local/lib/python3.8/site-packages (0.12.2)\n",
      "Requirement already satisfied: scipy>=1.1 in /home/ericxyuki/.local/lib/python3.8/site-packages (from statsmodels) (1.7.1)\n",
      "Requirement already satisfied: patsy>=0.5 in /home/ericxyuki/.local/lib/python3.8/site-packages (from statsmodels) (0.5.1)\n",
      "Requirement already satisfied: numpy>=1.15 in /home/ericxyuki/.local/lib/python3.8/site-packages (from statsmodels) (1.21.2)\n",
      "Requirement already satisfied: pandas>=0.21 in /home/ericxyuki/.local/lib/python3.8/site-packages (from statsmodels) (1.3.2)\n",
      "Requirement already satisfied: six in /usr/lib/python3/dist-packages (from patsy>=0.5->statsmodels) (1.14.0)\n",
      "Requirement already satisfied: python-dateutil>=2.7.3 in /usr/lib/python3/dist-packages (from pandas>=0.21->statsmodels) (2.7.3)\n",
      "Requirement already satisfied: pytz>=2017.3 in /home/ericxyuki/.local/lib/python3.8/site-packages (from pandas>=0.21->statsmodels) (2021.1)\n",
      "--2021-09-18 15:13:58--  https://raw.githubusercontent.com/MicrosoftDocs/mslearn-introduction-to-machine-learning/main/graphing.py\n",
      "Resolving raw.githubusercontent.com (raw.githubusercontent.com)... 185.199.110.133, 185.199.111.133, 185.199.108.133, ...\n",
      "Connecting to raw.githubusercontent.com (raw.githubusercontent.com)|185.199.110.133|:443... connected.\n",
      "HTTP request sent, awaiting response... 200 OK\n",
      "Length: 21511 (21K) [text/plain]\n",
      "Saving to: ‘graphing.py.3’\n",
      "\n",
      "graphing.py.3       100%[===================>]  21.01K  --.-KB/s    in 0.001s  \n",
      "\n",
      "2021-09-18 15:13:58 (29.7 MB/s) - ‘graphing.py.3’ saved [21511/21511]\n",
      "\n",
      "--2021-09-18 15:13:58--  https://raw.githubusercontent.com/MicrosoftDocs/mslearn-introduction-to-machine-learning/main/Data/doggy-boot-harness.csv\n",
      "Resolving raw.githubusercontent.com (raw.githubusercontent.com)... 185.199.110.133, 185.199.111.133, 185.199.108.133, ...\n",
      "Connecting to raw.githubusercontent.com (raw.githubusercontent.com)|185.199.110.133|:443... connected.\n",
      "HTTP request sent, awaiting response... 200 OK\n",
      "Length: 838 [text/plain]\n",
      "Saving to: ‘doggy-boot-harness.csv.3’\n",
      "\n",
      "doggy-boot-harness. 100%[===================>]     838  --.-KB/s    in 0s      \n",
      "\n",
      "2021-09-18 15:13:58 (16.6 MB/s) - ‘doggy-boot-harness.csv.3’ saved [838/838]\n",
      "\n"
     ]
    },
    {
     "data": {
      "text/html": [
       "<div>\n",
       "<style scoped>\n",
       "    .dataframe tbody tr th:only-of-type {\n",
       "        vertical-align: middle;\n",
       "    }\n",
       "\n",
       "    .dataframe tbody tr th {\n",
       "        vertical-align: top;\n",
       "    }\n",
       "\n",
       "    .dataframe thead th {\n",
       "        text-align: right;\n",
       "    }\n",
       "</style>\n",
       "<table border=\"1\" class=\"dataframe\">\n",
       "  <thead>\n",
       "    <tr style=\"text-align: right;\">\n",
       "      <th></th>\n",
       "      <th>boot_size</th>\n",
       "      <th>harness_size</th>\n",
       "      <th>sex</th>\n",
       "      <th>age_years</th>\n",
       "    </tr>\n",
       "  </thead>\n",
       "  <tbody>\n",
       "    <tr>\n",
       "      <th>0</th>\n",
       "      <td>39</td>\n",
       "      <td>58</td>\n",
       "      <td>male</td>\n",
       "      <td>12.0</td>\n",
       "    </tr>\n",
       "    <tr>\n",
       "      <th>1</th>\n",
       "      <td>38</td>\n",
       "      <td>58</td>\n",
       "      <td>male</td>\n",
       "      <td>9.6</td>\n",
       "    </tr>\n",
       "    <tr>\n",
       "      <th>2</th>\n",
       "      <td>37</td>\n",
       "      <td>52</td>\n",
       "      <td>female</td>\n",
       "      <td>8.6</td>\n",
       "    </tr>\n",
       "    <tr>\n",
       "      <th>3</th>\n",
       "      <td>39</td>\n",
       "      <td>58</td>\n",
       "      <td>male</td>\n",
       "      <td>10.2</td>\n",
       "    </tr>\n",
       "    <tr>\n",
       "      <th>4</th>\n",
       "      <td>38</td>\n",
       "      <td>57</td>\n",
       "      <td>male</td>\n",
       "      <td>7.8</td>\n",
       "    </tr>\n",
       "    <tr>\n",
       "      <th>5</th>\n",
       "      <td>35</td>\n",
       "      <td>52</td>\n",
       "      <td>female</td>\n",
       "      <td>4.4</td>\n",
       "    </tr>\n",
       "    <tr>\n",
       "      <th>6</th>\n",
       "      <td>37</td>\n",
       "      <td>55</td>\n",
       "      <td>female</td>\n",
       "      <td>6.0</td>\n",
       "    </tr>\n",
       "    <tr>\n",
       "      <th>7</th>\n",
       "      <td>36</td>\n",
       "      <td>53</td>\n",
       "      <td>female</td>\n",
       "      <td>14.2</td>\n",
       "    </tr>\n",
       "    <tr>\n",
       "      <th>8</th>\n",
       "      <td>35</td>\n",
       "      <td>49</td>\n",
       "      <td>male</td>\n",
       "      <td>13.2</td>\n",
       "    </tr>\n",
       "    <tr>\n",
       "      <th>9</th>\n",
       "      <td>40</td>\n",
       "      <td>54</td>\n",
       "      <td>female</td>\n",
       "      <td>15.2</td>\n",
       "    </tr>\n",
       "  </tbody>\n",
       "</table>\n",
       "</div>"
      ],
      "text/plain": [
       "   boot_size  harness_size     sex  age_years\n",
       "0         39            58    male       12.0\n",
       "1         38            58    male        9.6\n",
       "2         37            52  female        8.6\n",
       "3         39            58    male       10.2\n",
       "4         38            57    male        7.8\n",
       "5         35            52  female        4.4\n",
       "6         37            55  female        6.0\n",
       "7         36            53  female       14.2\n",
       "8         35            49    male       13.2\n",
       "9         40            54  female       15.2"
      ]
     },
     "execution_count": 1,
     "metadata": {},
     "output_type": "execute_result"
    }
   ],
   "source": [
    "import pandas\n",
    "import statsmodels.formula.api as smf\n",
    "import joblib\n",
    "\n",
    "!pip install statsmodels\n",
    "!wget https://raw.githubusercontent.com/MicrosoftDocs/mslearn-introduction-to-machine-learning/main/graphing.py\n",
    "!wget https://raw.githubusercontent.com/MicrosoftDocs/mslearn-introduction-to-machine-learning/main/Data/doggy-boot-harness.csv\n",
    "\n",
    "# Load a file for the lesson\n",
    "df = pandas.read_csv('doggy-boot-harness.csv')\n",
    "\n",
    "# Print the first 10 rows\n",
    "df.head(10)\n"
   ]
  },
  {
   "cell_type": "code",
   "execution_count": 6,
   "metadata": {},
   "outputs": [
    {
     "name": "stdout",
     "output_type": "stream",
     "text": [
      "Model Trained\n"
     ]
    }
   ],
   "source": [
    "#Fitting the model that finds a linear relationship\n",
    "#between boot and harness size.\n",
    "model = smf.ols(formula = \"boot_size ~ harness_size\", data = df).fit()\n",
    "\n",
    "print(\"Model Trained\")"
   ]
  },
  {
   "cell_type": "code",
   "execution_count": 7,
   "metadata": {},
   "outputs": [
    {
     "name": "stdout",
     "output_type": "stream",
     "text": [
      "Model saved\n"
     ]
    }
   ],
   "source": [
    "#Saving a pretrained model\n",
    "model_filename = './avalanche_dog_boot_model.pk1'\n",
    "joblib.dump(model, model_filename)\n",
    "\n",
    "print(\"Model saved\")"
   ]
  },
  {
   "cell_type": "code",
   "execution_count": 8,
   "metadata": {},
   "outputs": [
    {
     "name": "stdout",
     "output_type": "stream",
     "text": [
      "Loaded a model with the following parameters:\n",
      "Intercept       5.719110\n",
      "harness_size    0.585925\n",
      "dtype: float64\n"
     ]
    }
   ],
   "source": [
    "#Loading the model that was just saved\n",
    "model_loaded = joblib.load(model_filename)\n",
    "\n",
    "print(\"Loaded a model with the following parameters:\")\n",
    "print(model_loaded.params)"
   ]
  },
  {
   "cell_type": "code",
   "execution_count": 10,
   "metadata": {},
   "outputs": [
    {
     "name": "stdout",
     "output_type": "stream",
     "text": [
      "Loaded model has the following parameters:\n",
      "Intercept       5.719110\n",
      "harness_size    0.585925\n",
      "dtype: float64\n",
      "\n",
      "Predicted dog boot size: 32.08575356590474\n"
     ]
    }
   ],
   "source": [
    "def load_and_predict(harness_size):\n",
    "    \n",
    "    '''\n",
    "    Loads a pretrained model. Uses dog harness size \n",
    "    to predict the size of boots.\n",
    "    '''\n",
    "    #Load model from its variable name\n",
    "    loaded_model = joblib.load(model_filename)\n",
    "    \n",
    "    print(\"Loaded model has the following parameters:\")\n",
    "    print(loaded_model.params)\n",
    "    \n",
    "    #Prepared harness_size for model\n",
    "    inputs = {\"harness_size\":[harness_size]}\n",
    "    \n",
    "    #Make a prediction using the model\n",
    "    predicted_boot_size = loaded_model.predict(inputs)[0]\n",
    "    \n",
    "    return predicted_boot_size\n",
    "\n",
    "predicted_boot_size = load_and_predict(45)\n",
    "\n",
    "print(\"\\nPredicted dog boot size:\", predicted_boot_size)"
   ]
  },
  {
   "cell_type": "code",
   "execution_count": 11,
   "metadata": {},
   "outputs": [
    {
     "name": "stdout",
     "output_type": "stream",
     "text": [
      "Loaded model has the following parameters:\n",
      "Intercept       5.719110\n",
      "harness_size    0.585925\n",
      "dtype: float64\n"
     ]
    },
    {
     "data": {
      "text/plain": [
       "'These boots will probably be too big for your dog'"
      ]
     },
     "execution_count": 11,
     "metadata": {},
     "output_type": "execute_result"
    }
   ],
   "source": [
    "def check_size(selected_harness_size, selected_boot_size):\n",
    "    '''\n",
    "    Checks whether or not the boot and harness size will\n",
    "    fit the dog based on the trained model.\n",
    "    \n",
    "    It will return a message depending on if it is the\n",
    "    wrong size before they make their payment\n",
    "    '''\n",
    "    \n",
    "    #Estimate the dog's boot size\n",
    "    estimated_boot_size = load_and_predict(selected_harness_size)\n",
    "    \n",
    "    #Round to nearest whole number since those sizes don't exist\n",
    "    estimated_boot_size = int(round(estimated_boot_size))\n",
    "    \n",
    "    #Check if boot size is good\n",
    "    if selected_boot_size == estimated_boot_size:\n",
    "        #Seems good\n",
    "        return f\"These boots will probably fit your dog\"\n",
    "    \n",
    "    if selected_boot_size < estimated_boot_size:\n",
    "        #Seems good\n",
    "        return f\"These boots will probably be too small for your dog\"\n",
    "    \n",
    "    if selected_boot_size > estimated_boot_size:\n",
    "        #Seems good\n",
    "        return f\"These boots will probably be too big for your dog\"\n",
    "    \n",
    "check_size(selected_harness_size=55, selected_boot_size=39)"
   ]
  },
  {
   "cell_type": "code",
   "execution_count": null,
   "metadata": {},
   "outputs": [],
   "source": []
  }
 ],
 "metadata": {
  "kernelspec": {
   "display_name": "Python 3",
   "language": "python",
   "name": "python3"
  },
  "language_info": {
   "codemirror_mode": {
    "name": "ipython",
    "version": 3
   },
   "file_extension": ".py",
   "mimetype": "text/x-python",
   "name": "python",
   "nbconvert_exporter": "python",
   "pygments_lexer": "ipython3",
   "version": "3.8.10"
  }
 },
 "nbformat": 4,
 "nbformat_minor": 4
}
