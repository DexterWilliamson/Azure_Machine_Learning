{
 "cells": [
  {
   "cell_type": "code",
   "execution_count": 1,
   "metadata": {},
   "outputs": [
    {
     "name": "stdout",
     "output_type": "stream",
     "text": [
      "--2021-09-29 17:17:48--  https://raw.githubusercontent.com/MicrosoftDocs/mslearn-introduction-to-machine-learning/main/graphing.py\n",
      "Resolving raw.githubusercontent.com (raw.githubusercontent.com)... 185.199.109.133, 185.199.108.133, 185.199.110.133, ...\n",
      "Connecting to raw.githubusercontent.com (raw.githubusercontent.com)|185.199.109.133|:443... connected.\n",
      "HTTP request sent, awaiting response... 200 OK\n",
      "Length: 21511 (21K) [text/plain]\n",
      "Saving to: ‘graphing.py.1’\n",
      "\n",
      "graphing.py.1       100%[===================>]  21.01K  --.-KB/s    in 0.001s  \n",
      "\n",
      "2021-09-29 17:17:48 (28.3 MB/s) - ‘graphing.py.1’ saved [21511/21511]\n",
      "\n",
      "--2021-09-29 17:17:48--  https://raw.githubusercontent.com/MicrosoftDocs/mslearn-introduction-to-machine-learning/main/m0b_optimizer.py\n",
      "Resolving raw.githubusercontent.com (raw.githubusercontent.com)... 185.199.111.133, 185.199.110.133, 185.199.108.133, ...\n",
      "Connecting to raw.githubusercontent.com (raw.githubusercontent.com)|185.199.111.133|:443... connected.\n",
      "HTTP request sent, awaiting response... 200 OK\n",
      "Length: 1287 (1.3K) [text/plain]\n",
      "Saving to: ‘m0b_optimizer.py.1’\n",
      "\n",
      "m0b_optimizer.py.1  100%[===================>]   1.26K  --.-KB/s    in 0s      \n",
      "\n",
      "2021-09-29 17:17:48 (26.8 MB/s) - ‘m0b_optimizer.py.1’ saved [1287/1287]\n",
      "\n",
      "--2021-09-29 17:17:49--  https://raw.githubusercontent.com/MicrosoftDocs/mslearn-introduction-to-machine-learning/main/Data/seattleWeather_1948-2017.csv\n",
      "Resolving raw.githubusercontent.com (raw.githubusercontent.com)... 185.199.111.133, 185.199.110.133, 185.199.108.133, ...\n",
      "Connecting to raw.githubusercontent.com (raw.githubusercontent.com)|185.199.111.133|:443... connected.\n",
      "HTTP request sent, awaiting response... 200 OK\n",
      "Length: 762017 (744K) [text/plain]\n",
      "Saving to: ‘seattleWeather_1948-2017.csv.1’\n",
      "\n",
      "seattleWeather_1948 100%[===================>] 744.16K  --.-KB/s    in 0.02s   \n",
      "\n",
      "2021-09-29 17:17:49 (42.0 MB/s) - ‘seattleWeather_1948-2017.csv.1’ saved [762017/762017]\n",
      "\n"
     ]
    }
   ],
   "source": [
    "import pandas as pd\n",
    "import graphing\n",
    "import numpy as np\n",
    "!wget https://raw.githubusercontent.com/MicrosoftDocs/mslearn-introduction-to-machine-learning/main/graphing.py\n",
    "!wget https://raw.githubusercontent.com/MicrosoftDocs/mslearn-introduction-to-machine-learning/main/m0b_optimizer.py\n",
    "!wget https://raw.githubusercontent.com/MicrosoftDocs/mslearn-introduction-to-machine-learning/main/Data/seattleWeather_1948-2017.csv\n",
    "\n",
    "#Load file\n",
    "df = pd.read_csv('seattleWeather_1948-2017.csv', parse_dates=['date'])\n",
    "\n",
    "#Only keeping temps for January\n",
    "df = df[[d.month == 1 for d in df.date]].copy()\n"
   ]
  },
  {
   "cell_type": "code",
   "execution_count": 2,
   "metadata": {},
   "outputs": [
    {
     "data": {
      "text/html": [
       "<div>\n",
       "<style scoped>\n",
       "    .dataframe tbody tr th:only-of-type {\n",
       "        vertical-align: middle;\n",
       "    }\n",
       "\n",
       "    .dataframe tbody tr th {\n",
       "        vertical-align: top;\n",
       "    }\n",
       "\n",
       "    .dataframe thead th {\n",
       "        text-align: right;\n",
       "    }\n",
       "</style>\n",
       "<table border=\"1\" class=\"dataframe\">\n",
       "  <thead>\n",
       "    <tr style=\"text-align: right;\">\n",
       "      <th></th>\n",
       "      <th>date</th>\n",
       "      <th>amount_of_precipitation</th>\n",
       "      <th>max_temperature</th>\n",
       "      <th>min_temperature</th>\n",
       "      <th>rain</th>\n",
       "    </tr>\n",
       "  </thead>\n",
       "  <tbody>\n",
       "    <tr>\n",
       "      <th>0</th>\n",
       "      <td>1948-01-01</td>\n",
       "      <td>0.47</td>\n",
       "      <td>51</td>\n",
       "      <td>42</td>\n",
       "      <td>True</td>\n",
       "    </tr>\n",
       "    <tr>\n",
       "      <th>1</th>\n",
       "      <td>1948-01-02</td>\n",
       "      <td>0.59</td>\n",
       "      <td>45</td>\n",
       "      <td>36</td>\n",
       "      <td>True</td>\n",
       "    </tr>\n",
       "    <tr>\n",
       "      <th>2</th>\n",
       "      <td>1948-01-03</td>\n",
       "      <td>0.42</td>\n",
       "      <td>45</td>\n",
       "      <td>35</td>\n",
       "      <td>True</td>\n",
       "    </tr>\n",
       "    <tr>\n",
       "      <th>3</th>\n",
       "      <td>1948-01-04</td>\n",
       "      <td>0.31</td>\n",
       "      <td>45</td>\n",
       "      <td>34</td>\n",
       "      <td>True</td>\n",
       "    </tr>\n",
       "    <tr>\n",
       "      <th>4</th>\n",
       "      <td>1948-01-05</td>\n",
       "      <td>0.17</td>\n",
       "      <td>45</td>\n",
       "      <td>32</td>\n",
       "      <td>True</td>\n",
       "    </tr>\n",
       "    <tr>\n",
       "      <th>...</th>\n",
       "      <td>...</td>\n",
       "      <td>...</td>\n",
       "      <td>...</td>\n",
       "      <td>...</td>\n",
       "      <td>...</td>\n",
       "    </tr>\n",
       "    <tr>\n",
       "      <th>25229</th>\n",
       "      <td>2017-01-27</td>\n",
       "      <td>0.00</td>\n",
       "      <td>54</td>\n",
       "      <td>37</td>\n",
       "      <td>False</td>\n",
       "    </tr>\n",
       "    <tr>\n",
       "      <th>25230</th>\n",
       "      <td>2017-01-28</td>\n",
       "      <td>0.00</td>\n",
       "      <td>52</td>\n",
       "      <td>37</td>\n",
       "      <td>False</td>\n",
       "    </tr>\n",
       "    <tr>\n",
       "      <th>25231</th>\n",
       "      <td>2017-01-29</td>\n",
       "      <td>0.03</td>\n",
       "      <td>48</td>\n",
       "      <td>37</td>\n",
       "      <td>True</td>\n",
       "    </tr>\n",
       "    <tr>\n",
       "      <th>25232</th>\n",
       "      <td>2017-01-30</td>\n",
       "      <td>0.02</td>\n",
       "      <td>45</td>\n",
       "      <td>40</td>\n",
       "      <td>True</td>\n",
       "    </tr>\n",
       "    <tr>\n",
       "      <th>25233</th>\n",
       "      <td>2017-01-31</td>\n",
       "      <td>0.00</td>\n",
       "      <td>44</td>\n",
       "      <td>34</td>\n",
       "      <td>False</td>\n",
       "    </tr>\n",
       "  </tbody>\n",
       "</table>\n",
       "<p>2170 rows × 5 columns</p>\n",
       "</div>"
      ],
      "text/plain": [
       "            date  amount_of_precipitation  max_temperature  min_temperature  \\\n",
       "0     1948-01-01                     0.47               51               42   \n",
       "1     1948-01-02                     0.59               45               36   \n",
       "2     1948-01-03                     0.42               45               35   \n",
       "3     1948-01-04                     0.31               45               34   \n",
       "4     1948-01-05                     0.17               45               32   \n",
       "...          ...                      ...              ...              ...   \n",
       "25229 2017-01-27                     0.00               54               37   \n",
       "25230 2017-01-28                     0.00               52               37   \n",
       "25231 2017-01-29                     0.03               48               37   \n",
       "25232 2017-01-30                     0.02               45               40   \n",
       "25233 2017-01-31                     0.00               44               34   \n",
       "\n",
       "        rain  \n",
       "0       True  \n",
       "1       True  \n",
       "2       True  \n",
       "3       True  \n",
       "4       True  \n",
       "...      ...  \n",
       "25229  False  \n",
       "25230  False  \n",
       "25231   True  \n",
       "25232   True  \n",
       "25233  False  \n",
       "\n",
       "[2170 rows x 5 columns]"
      ]
     },
     "execution_count": 2,
     "metadata": {},
     "output_type": "execute_result"
    }
   ],
   "source": [
    "#print first and last rows\n",
    "df"
   ]
  },
  {
   "cell_type": "code",
   "execution_count": 3,
   "metadata": {},
   "outputs": [],
   "source": [
    "#Visualize data\n",
    "#graphing.scatter_2D(df, label_x=\"date\", label_y=\"min_temperature\", title=\"January Temperatures (°F)\")"
   ]
  },
  {
   "cell_type": "code",
   "execution_count": 4,
   "metadata": {},
   "outputs": [],
   "source": [
    "#Offset date into years\n",
    "df[\"years_since_1982\"] = [(d.year + d.timetuple().tm_yday / 365.25) - 1982 for d in df.date]\n",
    "\n",
    "#scale and offset temp to make small range\n",
    "df[\"normalised_temperature\"] = (df[\"min_temperature\"] - np.mean(df[\"min_temperature\"])) / np.std(df[\"min_temperature\"])"
   ]
  },
  {
   "cell_type": "code",
   "execution_count": 5,
   "metadata": {},
   "outputs": [],
   "source": [
    "#graphing.scatter_2D(df, label_x=\"years_since_1982\", label_y=\"normalised_temperature\", title=\"January Temperatures (Normalised)\")"
   ]
  },
  {
   "cell_type": "raw",
   "metadata": {},
   "source": []
  },
  {
   "cell_type": "code",
   "execution_count": 6,
   "metadata": {},
   "outputs": [
    {
     "name": "stdout",
     "output_type": "stream",
     "text": [
      "Model made!\n"
     ]
    }
   ],
   "source": [
    "class tmModel:\n",
    "    \n",
    "    def __init__(self):\n",
    "        \n",
    "        #lines described by 2 params\n",
    "        # Slope is angle of lines\n",
    "    \n",
    "        self.slope = 0\n",
    "        #moves line up and down\n",
    "        self.intercept = 0\n",
    "        \n",
    "    def predict(self, date):\n",
    "        '''\n",
    "        Estimates the temperature from the date\n",
    "        '''\n",
    "        return date * self.slope + self.intercept\n",
    "\n",
    "model = tmModel()\n",
    "print(\"Model made!\")"
   ]
  },
  {
   "cell_type": "code",
   "execution_count": 7,
   "metadata": {},
   "outputs": [
    {
     "name": "stdout",
     "output_type": "stream",
     "text": [
      "Model params before training: 0, 0\n",
      "Model visualised before training:\n"
     ]
    }
   ],
   "source": [
    "print(f\"Model params before training: {model.intercept}, {model.slope}\")\n",
    "print(\"Model visualised before training:\")\n",
    "#graphing.scatter_2D(df, \"years_since_1982\", \"normalised_temperature\", trendline=model.predict)"
   ]
  },
  {
   "cell_type": "code",
   "execution_count": 8,
   "metadata": {},
   "outputs": [],
   "source": [
    "def cost_function(actual_temperatures, estimated_temperatures):\n",
    "    \n",
    "    '''\n",
    "    Calculate difference between actual and estimates temps.\n",
    "    Returns difference, and squared difference (the cost)\n",
    "    \n",
    "    actual_temperatures: One or more temps recorded in the past\n",
    "    estimated_temperatures: Temps estimated by the model    \n",
    "    '''\n",
    "    \n",
    "    difference = estimated_temperatures - actual_temperatures\n",
    "    \n",
    "    cost = sum(difference ** 2)\n",
    "    \n",
    "    return difference, cost"
   ]
  },
  {
   "cell_type": "code",
   "execution_count": 9,
   "metadata": {},
   "outputs": [],
   "source": [
    "from m0b_optimizer import MyOptimizer\n",
    "\n",
    "#Create an optimizer\n",
    "\n",
    "optimizer = MyOptimizer()"
   ]
  },
  {
   "cell_type": "code",
   "execution_count": 10,
   "metadata": {},
   "outputs": [
    {
     "name": "stdout",
     "output_type": "stream",
     "text": [
      "Training method ready\n"
     ]
    }
   ],
   "source": [
    "def train_once(model_inputs, true_temperatures, last_cost:float):\n",
    "    '''\n",
    "    Runs training one time\n",
    "    \n",
    "    model_inputs: one or more dates to provide the model (dates)\n",
    "    true_temperatures: Corresponding temps that happen on those dates\n",
    "    \n",
    "    Returns:\n",
    "    \n",
    "        A Boolean, as to whether training should continue\n",
    "        The cost calculated (small numbers are better)\n",
    "        \n",
    "    '''\n",
    "    #Estimate temps for all data\n",
    "    estimated_temperatures = model.predict(model_inputs)\n",
    "    \n",
    "    #Calculate model effectiveness\n",
    "    difference, cost = cost_function(true_temperatures, estimated_temperatures)\n",
    "    \n",
    "    #Decide to keep training or not\n",
    "    #Basically if futher training doesn't increase effectiveness\n",
    "    \n",
    "    if cost >= last_cost:\n",
    "        \n",
    "        return False, cost\n",
    "    else:\n",
    "        \n",
    "        intercept_update, slope_update = optimizer.get_parameter_updates(model_inputs, cost, difference)\n",
    "        \n",
    "        model.slope += slope_update\n",
    "        model.intercept += intercept_update\n",
    "        \n",
    "        return True, cost\n",
    "    \n",
    "print(\"Training method ready\")"
   ]
  },
  {
   "cell_type": "code",
   "execution_count": 11,
   "metadata": {},
   "outputs": [
    {
     "name": "stdout",
     "output_type": "stream",
     "text": [
      "Model parameters before training:\t\t0.00000000,\t0.00000000\n",
      "Model params after 1 iteration:\t0.00000000,\t0.01006832\n"
     ]
    }
   ],
   "source": [
    "import math\n",
    "\n",
    "print(f\"Model parameters before training:\\t\\t{model.intercept:.8f},\\t{model.slope:.8f}\")\n",
    "\n",
    "continue_loop, cost = train_once(model_inputs=df[\"years_since_1982\"],\n",
    "                                true_temperatures = df[\"normalised_temperature\"],\n",
    "                                last_cost = math.inf)\n",
    "\n",
    "print(f\"Model params after 1 iteration:\\t{model.intercept:.8f},\\t{model.slope:.8f}\")"
   ]
  },
  {
   "cell_type": "code",
   "execution_count": 12,
   "metadata": {},
   "outputs": [
    {
     "name": "stdout",
     "output_type": "stream",
     "text": [
      "Training beginning...\n",
      "Iteration: 0\n",
      "Iteration: 400\n",
      "Iteration: 800\n",
      "Iteration: 1200\n",
      "Iteration: 1600\n",
      "Iteration: 2000\n",
      "Iteration: 2400\n",
      "Iteration: 2800\n",
      "Iteration: 3200\n",
      "Iteration: 3600\n",
      "Iteration: 4000\n",
      "Training Completed!\n",
      "Model parameters after training:\t-0.00648846,\t0.01193327\n"
     ]
    }
   ],
   "source": [
    "#loop time\n",
    "\n",
    "print(\"Training beginning...\")\n",
    "last_cost = math.inf\n",
    "i = 0\n",
    "continue_loop = True\n",
    "while continue_loop:\n",
    "    \n",
    "    continue_loop, last_cost = train_once(model_inputs = df[\"years_since_1982\"],\n",
    "                                                    true_temperatures = df[\"normalised_temperature\"],\n",
    "                                                    last_cost = last_cost)\n",
    "   #print status\n",
    "    if i % 400 == 0:\n",
    "        print(\"Iteration:\",i)\n",
    "    i += 1\n",
    "    \n",
    "print(\"Training Completed!\")\n",
    "print(f\"Model parameters after training:\\t{model.intercept:.8f},\\t{model.slope:.8f}\")\n",
    "#graphing.scatter_2D(df, \"years_since_1982\", \"normalised_temperature\", trendline=model.predict)\n"
   ]
  },
  {
   "cell_type": "code",
   "execution_count": null,
   "metadata": {},
   "outputs": [],
   "source": []
  }
 ],
 "metadata": {
  "kernelspec": {
   "display_name": "Python 3",
   "language": "python",
   "name": "python3"
  },
  "language_info": {
   "codemirror_mode": {
    "name": "ipython",
    "version": 3
   },
   "file_extension": ".py",
   "mimetype": "text/x-python",
   "name": "python",
   "nbconvert_exporter": "python",
   "pygments_lexer": "ipython3",
   "version": "3.8.10"
  }
 },
 "nbformat": 4,
 "nbformat_minor": 4
}
